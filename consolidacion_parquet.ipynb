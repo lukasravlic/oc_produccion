{
 "cells": [
  {
   "cell_type": "code",
   "execution_count": 1,
   "metadata": {},
   "outputs": [],
   "source": [
    "import pandas as pd"
   ]
  },
  {
   "cell_type": "code",
   "execution_count": 2,
   "metadata": {},
   "outputs": [],
   "source": [
    "consolidado = pd.read_parquet(\"C:/Users/lravlic/Inchcape/Planificación y Compras Chile - Documentos/Planificación y Compras KPI-Reportes/OC-Producción OEM/Consolidado OC Prod Homologado/evolutivo_fuera_estandar.parquet\")"
   ]
  },
  {
   "cell_type": "code",
   "execution_count": 6,
   "metadata": {},
   "outputs": [],
   "source": [
    "consolidado = consolidado[consolidado['Fecha Reporte'] != '2024-12-03']"
   ]
  },
  {
   "cell_type": "code",
   "execution_count": 3,
   "metadata": {},
   "outputs": [
    {
     "data": {
      "text/plain": [
       "Fecha Reporte\n",
       "2024-10-14    24654\n",
       "2024-10-22    24634\n",
       "2024-10-08    23844\n",
       "2024-11-25    22977\n",
       "2024-12-03    22951\n",
       "2024-10-28    22271\n",
       "2024-09-17    21619\n",
       "2024-09-26    21276\n",
       "2024-11-19    20712\n",
       "2024-10-01    20475\n",
       "2024-11-04    20469\n",
       "2024-11-12    19822\n",
       "2024-08-27    18940\n",
       "2024-09-10    18359\n",
       "2024-07-18    18348\n",
       "2024-09-04    18139\n",
       "2024-07-23    18061\n",
       "2024-08-20    17922\n",
       "2024-07-02    17185\n",
       "2024-07-09    17156\n",
       "2024-07-31    16910\n",
       "2024-08-14    16199\n",
       "2024-08-07    16007\n",
       "Name: count, dtype: int64"
      ]
     },
     "execution_count": 3,
     "metadata": {},
     "output_type": "execute_result"
    }
   ],
   "source": [
    "consolidado['Fecha Reporte'].value_counts()"
   ]
  },
  {
   "cell_type": "code",
   "execution_count": 4,
   "metadata": {},
   "outputs": [
    {
     "name": "stdout",
     "output_type": "stream",
     "text": [
      "Archivo incorrecto. Vuelve a seleccionar el archivo 'oc produccion'.\n",
      "Archivo incorrecto. Vuelve a seleccionar el archivo 'oc produccion'.\n",
      "Archivo seleccionado: C:/Users/lravlic/Inchcape/Planificación y Compras Chile - Documentos/Planificación y Compras KPI-Reportes/OC-Producción OEM/Consolidado OC Prod Homologado/oc produccion 50.xlsx\n",
      "Archivo 'oc produccion' cargado correctamente.\n"
     ]
    }
   ],
   "source": [
    "import tkinter as tk\n",
    "from tkinter import filedialog\n",
    "import pandas as pd\n",
    "# Crear la ventana principal oculta\n",
    "root = tk.Tk()\n",
    "root.withdraw()  # Ocultar la ventana principal de tkinter\n",
    "\n",
    "archivo_valido = False  # Variable para verificar si se ha seleccionado un archivo correcto\n",
    "\n",
    "while not archivo_valido:\n",
    "    # Abrir un cuadro de diálogo para seleccionar el archivo \"oc produccion\"\n",
    "    archivo = filedialog.askopenfilename(\n",
    "        title=\"Selecciona el archivo 'oc produccion'\",\n",
    "        filetypes=((\"Archivos de Excel\", \"*.xlsx\"), (\"Todos los archivos\", \"*.*\"))\n",
    "    )\n",
    "\n",
    "    # Verificar si el archivo seleccionado es el correcto\n",
    "    if archivo and \"oc produccion\" in archivo:\n",
    "        print(f\"Archivo seleccionado: {archivo}\")\n",
    "        archivo_valido = True  # Salir del bucle\n",
    "\n",
    "        # Leer el archivo seleccionado\n",
    "        df = pd.read_excel(archivo, sheet_name='Sheet1')\n",
    "        print(\"Archivo 'oc produccion' cargado correctamente.\")\n",
    "    else:\n",
    "        print(\"Archivo incorrecto. Vuelve a seleccionar el archivo 'oc produccion'.\")"
   ]
  },
  {
   "cell_type": "code",
   "execution_count": 5,
   "metadata": {},
   "outputs": [],
   "source": [
    "df_final = pd.concat([df, consolidado])"
   ]
  },
  {
   "cell_type": "code",
   "execution_count": 6,
   "metadata": {},
   "outputs": [],
   "source": [
    "df_final['Fecha Reporte'] = pd.to_datetime(df_final['Fecha Reporte'])"
   ]
  },
  {
   "cell_type": "code",
   "execution_count": 7,
   "metadata": {},
   "outputs": [],
   "source": [
    "df_final['Fecha Reporte'] = df_final['Fecha Reporte'].dt.strftime('%Y-%m-%d')"
   ]
  },
  {
   "cell_type": "code",
   "execution_count": 8,
   "metadata": {},
   "outputs": [],
   "source": [
    "df_final.drop(columns={'Fechas corregidas R3'}, inplace=True)"
   ]
  },
  {
   "cell_type": "code",
   "execution_count": 9,
   "metadata": {},
   "outputs": [
    {
     "data": {
      "text/plain": [
       "Fecha Reporte\n",
       "2024-10-14    24654\n",
       "2024-10-22    24634\n",
       "2024-10-08    23844\n",
       "2024-11-25    22977\n",
       "2024-12-03    22951\n",
       "2024-10-28    22271\n",
       "2024-09-17    21619\n",
       "2024-09-26    21276\n",
       "2024-11-19    20712\n",
       "2024-12-10    20652\n",
       "2024-10-01    20475\n",
       "2024-11-04    20469\n",
       "2024-11-12    19822\n",
       "2024-08-27    18940\n",
       "2024-09-10    18359\n",
       "2024-07-18    18348\n",
       "2024-09-04    18139\n",
       "2024-07-23    18061\n",
       "2024-08-20    17922\n",
       "2024-07-02    17185\n",
       "2024-07-09    17156\n",
       "2024-07-31    16910\n",
       "2024-08-14    16199\n",
       "2024-08-07    16007\n",
       "Name: count, dtype: int64"
      ]
     },
     "execution_count": 9,
     "metadata": {},
     "output_type": "execute_result"
    }
   ],
   "source": [
    "df_final['Fecha Reporte'].value_counts()"
   ]
  },
  {
   "cell_type": "code",
   "execution_count": 10,
   "metadata": {},
   "outputs": [],
   "source": [
    "df_final.to_parquet(\"C:/Users/lravlic/Inchcape/Planificación y Compras Chile - Documentos/Planificación y Compras KPI-Reportes/OC-Producción OEM/Consolidado OC Prod Homologado/evolutivo_fuera_estandar.parquet\")"
   ]
  },
  {
   "cell_type": "code",
   "execution_count": null,
   "metadata": {},
   "outputs": [],
   "source": []
  }
 ],
 "metadata": {
  "kernelspec": {
   "display_name": "Python 3",
   "language": "python",
   "name": "python3"
  },
  "language_info": {
   "codemirror_mode": {
    "name": "ipython",
    "version": 3
   },
   "file_extension": ".py",
   "mimetype": "text/x-python",
   "name": "python",
   "nbconvert_exporter": "python",
   "pygments_lexer": "ipython3",
   "version": "3.12.0"
  }
 },
 "nbformat": 4,
 "nbformat_minor": 2
}
